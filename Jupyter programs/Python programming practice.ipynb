{
 "cells": [
  {
   "cell_type": "code",
   "execution_count": 11,
   "id": "54424ca8",
   "metadata": {},
   "outputs": [
    {
     "name": "stdout",
     "output_type": "stream",
     "text": [
      "100\n",
      "Prime nos:\n",
      "97\n",
      "89\n",
      "83\n",
      "79\n",
      "73\n",
      "71\n",
      "67\n",
      "61\n",
      "59\n",
      "53\n",
      "47\n",
      "43\n",
      "41\n",
      "37\n",
      "31\n",
      "29\n",
      "23\n",
      "19\n",
      "17\n",
      "13\n",
      "11\n",
      "7\n",
      "5\n",
      "3\n",
      "2\n",
      "1\n"
     ]
    }
   ],
   "source": [
    "n = int(input())\n",
    "b = 0\n",
    "print('Prime nos:')\n",
    "while n>0:\n",
    "  count=0\n",
    "  b=0\n",
    "  for i in range(1,n+1):\n",
    "    if n%i == 0:\n",
    "      count += 1\n",
    "    if count>2:\n",
    "      b = -1\n",
    "  if b==0:\n",
    "    print(n)\n",
    "  n = n-1"
   ]
  },
  {
   "cell_type": "code",
   "execution_count": null,
   "id": "25ff8bfd",
   "metadata": {},
   "outputs": [],
   "source": []
  }
 ],
 "metadata": {
  "kernelspec": {
   "display_name": "Python 3 (ipykernel)",
   "language": "python",
   "name": "python3"
  },
  "language_info": {
   "codemirror_mode": {
    "name": "ipython",
    "version": 3
   },
   "file_extension": ".py",
   "mimetype": "text/x-python",
   "name": "python",
   "nbconvert_exporter": "python",
   "pygments_lexer": "ipython3",
   "version": "3.9.13"
  }
 },
 "nbformat": 4,
 "nbformat_minor": 5
}
