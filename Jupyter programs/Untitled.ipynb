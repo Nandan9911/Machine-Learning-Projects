{
 "cells": [
  {
   "cell_type": "markdown",
   "id": "53b4a412",
   "metadata": {},
   "source": [
    "# Feature Scaling"
   ]
  },
  {
   "cell_type": "raw",
   "id": "fef348a7",
   "metadata": {},
   "source": [
    "Normalization Techniques:\n",
    "\n",
    "1. Rescaling: MinMaxScaler (scales between 0,1)\n",
    "2. Standardising: StandardScaler (float values)\n"
   ]
  },
  {
   "cell_type": "code",
   "execution_count": null,
   "id": "577acb2a",
   "metadata": {},
   "outputs": [],
   "source": [
    "import numpy as np\n",
    "import pandas as pd\n",
    "import matplotlib.pyplot as plt"
   ]
  }
 ],
 "metadata": {
  "kernelspec": {
   "display_name": "Python 3 (ipykernel)",
   "language": "python",
   "name": "python3"
  },
  "language_info": {
   "codemirror_mode": {
    "name": "ipython",
    "version": 3
   },
   "file_extension": ".py",
   "mimetype": "text/x-python",
   "name": "python",
   "nbconvert_exporter": "python",
   "pygments_lexer": "ipython3",
   "version": "3.9.13"
  }
 },
 "nbformat": 4,
 "nbformat_minor": 5
}
